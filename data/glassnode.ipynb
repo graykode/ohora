{
 "cells": [
  {
   "cell_type": "code",
   "execution_count": 1,
   "id": "2647f7bb-343a-4a81-8f4e-4d9bd2ccb090",
   "metadata": {},
   "outputs": [
    {
     "name": "stdout",
     "output_type": "stream",
     "text": [
      "/Users/taehwan/.conda/envs/tf/bin/python\r\n"
     ]
    }
   ],
   "source": [
    "!which python"
   ]
  },
  {
   "cell_type": "code",
   "execution_count": 2,
   "id": "fa47b113-fca5-4d9b-9315-a40e555e8f8a",
   "metadata": {},
   "outputs": [],
   "source": [
    "import json\n",
    "\n",
    "import pandas as pd\n",
    "import requests\n",
    "from tqdm import tqdm\n",
    "import numpy as np\n",
    "\n",
    "from config import API_KEY"
   ]
  },
  {
   "cell_type": "markdown",
   "id": "a0bf08aa-73b2-43c5-9d9e-f45cb9feb267",
   "metadata": {},
   "source": [
    "### Get MVRV & MVRV-Z Score"
   ]
  },
  {
   "cell_type": "code",
   "execution_count": 3,
   "id": "8e7bc012-7823-4386-b051-ba750df3f4fb",
   "metadata": {},
   "outputs": [],
   "source": [
    "def get_mvrv(symbol: str):\n",
    "    res = requests.get(\n",
    "        \"https://api.glassnode.com/v1/metrics/market/mvrv\",\n",
    "        params={\"a\": symbol, \"api_key\": API_KEY},\n",
    "    )\n",
    "    mvrv_df = pd.read_json(res.text, convert_dates=[\"t\"])\n",
    "    mvrv_df = mvrv_df.rename(columns={\"v\": \"mvrv\"})\n",
    "    return mvrv_df"
   ]
  },
  {
   "cell_type": "code",
   "execution_count": 4,
   "id": "af2a4abd-7bbc-44c6-8b52-fb65cbf50084",
   "metadata": {},
   "outputs": [],
   "source": [
    "def get_mvrv_z(symbol: str):\n",
    "    res = requests.get(\n",
    "        \"https://api.glassnode.com/v1/metrics/market/mvrv_z_score\",\n",
    "        params={\"a\": symbol, \"api_key\": API_KEY},\n",
    "    )\n",
    "    mvrv_z_df = pd.read_json(res.text, convert_dates=[\"t\"])\n",
    "    mvrv_z_df = mvrv_z_df.rename(columns={\"v\": \"mvrv_z\"})\n",
    "    return mvrv_z_df"
   ]
  },
  {
   "cell_type": "code",
   "execution_count": 5,
   "id": "c4d6b18e-11bd-470a-92c1-46c512a9fb22",
   "metadata": {},
   "outputs": [],
   "source": [
    "mvrv = get_mvrv('BTC')\n",
    "mvrv_z = get_mvrv_z('BTC')\n",
    "\n",
    "mvrv.index = mvrv.t\n",
    "mvrv_z.index = mvrv_z.t\n",
    "\n",
    "mvrv = mvrv.drop('t', axis=1)\n",
    "mvrv_z = mvrv_z.drop('t', axis=1)"
   ]
  },
  {
   "cell_type": "code",
   "execution_count": 6,
   "id": "a520d6b4-c22f-4840-86ce-f50d3927af42",
   "metadata": {},
   "outputs": [],
   "source": [
    "df = pd.merge(mvrv, mvrv_z, left_index=True, right_index=True, how='right')\n",
    "df = df.dropna()\n",
    "df = df[df.index >= '2011-01-01']"
   ]
  },
  {
   "cell_type": "code",
   "execution_count": 60,
   "id": "ecea47f6-f392-41d3-8713-a3e22b6807f9",
   "metadata": {},
   "outputs": [],
   "source": [
    "df.to_csv('mvrv.csv', index=True)"
   ]
  },
  {
   "cell_type": "code",
   "execution_count": 8,
   "id": "f1860c83-9f88-4c80-81a0-ea23402ac61f",
   "metadata": {},
   "outputs": [
    {
     "data": {
      "text/plain": [
       "<AxesSubplot:xlabel='t'>"
      ]
     },
     "execution_count": 8,
     "metadata": {},
     "output_type": "execute_result"
    },
    {
     "data": {
      "image/png": "[encoded data removed]",
      "text/plain": [
       "<Figure size 432x288 with 1 Axes>"
      ]
     },
     "metadata": {
      "needs_background": "light"
     },
     "output_type": "display_data"
    }
   ],
   "source": [
    "df.plot()"
   ]
  },
  {
   "cell_type": "code",
   "execution_count": null,
   "id": "45b9c2a6-954b-49c9-8638-e704ccc00723",
   "metadata": {},
   "outputs": [],
   "source": []
  },
  {
   "cell_type": "markdown",
   "id": "c3390af9-97a6-4c9b-b7fc-170a98d1f197",
   "metadata": {},
   "source": [
    "### Append BTC price in dataframe"
   ]
  },
  {
   "cell_type": "code",
   "execution_count": 9,
   "id": "58973de9-15b3-4bab-b62a-bc0e89b3d7f2",
   "metadata": {},
   "outputs": [],
   "source": [
    "def get_price(symbol: str):\n",
    "    res = requests.get(\n",
    "        \"https://api.glassnode.com/v1/metrics/market/price_usd_close\",\n",
    "        params={\"a\": symbol, \"api_key\": API_KEY},\n",
    "    )\n",
    "    price_df = pd.read_json(res.text, convert_dates=[\"t\"])\n",
    "    price_df = price_df.rename(columns={\"v\": \"price\"})\n",
    "    return price_df"
   ]
  },
  {
   "cell_type": "code",
   "execution_count": 10,
   "id": "51bfd922-e707-4f9c-96e9-1d549dbb2df0",
   "metadata": {},
   "outputs": [],
   "source": [
    "price = get_price('BTC')\n",
    "price.index = price.t\n",
    "price = price.drop('t', axis=1)"
   ]
  },
  {
   "cell_type": "code",
   "execution_count": 11,
   "id": "9ea94c89-4fed-480b-b5fb-e652494995d4",
   "metadata": {},
   "outputs": [
    {
     "data": {
      "text/html": [
       "<div>\n",
       "<style scoped>\n",
       "    .dataframe tbody tr th:only-of-type {\n",
       "        vertical-align: middle;\n",
       "    }\n",
       "\n",
       "    .dataframe tbody tr th {\n",
       "        vertical-align: top;\n",
       "    }\n",
       "\n",
       "    .dataframe thead th {\n",
       "        text-align: right;\n",
       "    }\n",
       "</style>\n",
       "<table border=\"1\" class=\"dataframe\">\n",
       "  <thead>\n",
       "    <tr style=\"text-align: right;\">\n",
       "      <th></th>\n",
       "      <th>price</th>\n",
       "    </tr>\n",
       "    <tr>\n",
       "      <th>t</th>\n",
       "      <th></th>\n",
       "    </tr>\n",
       "  </thead>\n",
       "  <tbody>\n",
       "    <tr>\n",
       "      <th>2010-07-17</th>\n",
       "      <td>0.049510</td>\n",
       "    </tr>\n",
       "    <tr>\n",
       "      <th>2010-07-18</th>\n",
       "      <td>0.085840</td>\n",
       "    </tr>\n",
       "    <tr>\n",
       "      <th>2010-07-19</th>\n",
       "      <td>0.080800</td>\n",
       "    </tr>\n",
       "    <tr>\n",
       "      <th>2010-07-20</th>\n",
       "      <td>0.074733</td>\n",
       "    </tr>\n",
       "    <tr>\n",
       "      <th>2010-07-21</th>\n",
       "      <td>0.079210</td>\n",
       "    </tr>\n",
       "    <tr>\n",
       "      <th>...</th>\n",
       "      <td>...</td>\n",
       "    </tr>\n",
       "    <tr>\n",
       "      <th>2021-10-08</th>\n",
       "      <td>53884.290533</td>\n",
       "    </tr>\n",
       "    <tr>\n",
       "      <th>2021-10-09</th>\n",
       "      <td>55068.643546</td>\n",
       "    </tr>\n",
       "    <tr>\n",
       "      <th>2021-10-10</th>\n",
       "      <td>54675.093215</td>\n",
       "    </tr>\n",
       "    <tr>\n",
       "      <th>2021-10-11</th>\n",
       "      <td>57434.240990</td>\n",
       "    </tr>\n",
       "    <tr>\n",
       "      <th>2021-10-12</th>\n",
       "      <td>56294.378447</td>\n",
       "    </tr>\n",
       "  </tbody>\n",
       "</table>\n",
       "<p>4106 rows × 1 columns</p>\n",
       "</div>"
      ],
      "text/plain": [
       "                   price\n",
       "t                       \n",
       "2010-07-17      0.049510\n",
       "2010-07-18      0.085840\n",
       "2010-07-19      0.080800\n",
       "2010-07-20      0.074733\n",
       "2010-07-21      0.079210\n",
       "...                  ...\n",
       "2021-10-08  53884.290533\n",
       "2021-10-09  55068.643546\n",
       "2021-10-10  54675.093215\n",
       "2021-10-11  57434.240990\n",
       "2021-10-12  56294.378447\n",
       "\n",
       "[4106 rows x 1 columns]"
      ]
     },
     "execution_count": 11,
     "metadata": {},
     "output_type": "execute_result"
    }
   ],
   "source": [
    "price"
   ]
  },
  {
   "cell_type": "code",
   "execution_count": null,
   "id": "565eb2f6-4f80-44b5-a035-74dd2dcd93bf",
   "metadata": {},
   "outputs": [],
   "source": []
  },
  {
   "cell_type": "code",
   "execution_count": 12,
   "id": "a3375200-33f8-497a-9663-027257b84d94",
   "metadata": {},
   "outputs": [],
   "source": [
    "df = pd.merge(df, price, left_index=True, right_index=True, how='right')\n",
    "df = df.dropna()\n",
    "df = df[df.index >= '2011-01-01']"
   ]
  },
  {
   "cell_type": "code",
   "execution_count": 13,
   "id": "21948081-5776-4178-996a-ce532502e7e0",
   "metadata": {},
   "outputs": [
    {
     "data": {
      "text/html": [
       "<div>\n",
       "<style scoped>\n",
       "    .dataframe tbody tr th:only-of-type {\n",
       "        vertical-align: middle;\n",
       "    }\n",
       "\n",
       "    .dataframe tbody tr th {\n",
       "        vertical-align: top;\n",
       "    }\n",
       "\n",
       "    .dataframe thead th {\n",
       "        text-align: right;\n",
       "    }\n",
       "</style>\n",
       "<table border=\"1\" class=\"dataframe\">\n",
       "  <thead>\n",
       "    <tr style=\"text-align: right;\">\n",
       "      <th></th>\n",
       "      <th>mvrv</th>\n",
       "      <th>mvrv_z</th>\n",
       "      <th>price</th>\n",
       "    </tr>\n",
       "    <tr>\n",
       "      <th>t</th>\n",
       "      <th></th>\n",
       "      <th></th>\n",
       "      <th></th>\n",
       "    </tr>\n",
       "  </thead>\n",
       "  <tbody>\n",
       "    <tr>\n",
       "      <th>2011-01-01</th>\n",
       "      <td>2.619131</td>\n",
       "      <td>2.587964</td>\n",
       "      <td>0.300000</td>\n",
       "    </tr>\n",
       "    <tr>\n",
       "      <th>2011-01-02</th>\n",
       "      <td>2.581757</td>\n",
       "      <td>2.559242</td>\n",
       "      <td>0.299970</td>\n",
       "    </tr>\n",
       "    <tr>\n",
       "      <th>2011-01-03</th>\n",
       "      <td>2.534929</td>\n",
       "      <td>2.468358</td>\n",
       "      <td>0.295000</td>\n",
       "    </tr>\n",
       "    <tr>\n",
       "      <th>2011-01-04</th>\n",
       "      <td>2.549887</td>\n",
       "      <td>2.504235</td>\n",
       "      <td>0.298950</td>\n",
       "    </tr>\n",
       "    <tr>\n",
       "      <th>2011-01-05</th>\n",
       "      <td>2.557928</td>\n",
       "      <td>2.482870</td>\n",
       "      <td>0.298920</td>\n",
       "    </tr>\n",
       "    <tr>\n",
       "      <th>...</th>\n",
       "      <td>...</td>\n",
       "      <td>...</td>\n",
       "      <td>...</td>\n",
       "    </tr>\n",
       "    <tr>\n",
       "      <th>2021-10-07</th>\n",
       "      <td>2.519077</td>\n",
       "      <td>2.986311</td>\n",
       "      <td>53776.542871</td>\n",
       "    </tr>\n",
       "    <tr>\n",
       "      <th>2021-10-08</th>\n",
       "      <td>2.518883</td>\n",
       "      <td>2.990908</td>\n",
       "      <td>53884.290533</td>\n",
       "    </tr>\n",
       "    <tr>\n",
       "      <th>2021-10-09</th>\n",
       "      <td>2.528370</td>\n",
       "      <td>3.093188</td>\n",
       "      <td>55068.643546</td>\n",
       "    </tr>\n",
       "    <tr>\n",
       "      <th>2021-10-10</th>\n",
       "      <td>2.543532</td>\n",
       "      <td>3.046079</td>\n",
       "      <td>54675.093215</td>\n",
       "    </tr>\n",
       "    <tr>\n",
       "      <th>2021-10-11</th>\n",
       "      <td>2.608126</td>\n",
       "      <td>3.288415</td>\n",
       "      <td>57434.240990</td>\n",
       "    </tr>\n",
       "  </tbody>\n",
       "</table>\n",
       "<p>3937 rows × 3 columns</p>\n",
       "</div>"
      ],
      "text/plain": [
       "                mvrv    mvrv_z         price\n",
       "t                                           \n",
       "2011-01-01  2.619131  2.587964      0.300000\n",
       "2011-01-02  2.581757  2.559242      0.299970\n",
       "2011-01-03  2.534929  2.468358      0.295000\n",
       "2011-01-04  2.549887  2.504235      0.298950\n",
       "2011-01-05  2.557928  2.482870      0.298920\n",
       "...              ...       ...           ...\n",
       "2021-10-07  2.519077  2.986311  53776.542871\n",
       "2021-10-08  2.518883  2.990908  53884.290533\n",
       "2021-10-09  2.528370  3.093188  55068.643546\n",
       "2021-10-10  2.543532  3.046079  54675.093215\n",
       "2021-10-11  2.608126  3.288415  57434.240990\n",
       "\n",
       "[3937 rows x 3 columns]"
      ]
     },
     "execution_count": 13,
     "metadata": {},
     "output_type": "execute_result"
    }
   ],
   "source": [
    "df"
   ]
  },
  {
   "cell_type": "code",
   "execution_count": 14,
   "id": "18ac93e2-6bb3-402f-93d8-b7b325ce059f",
   "metadata": {},
   "outputs": [],
   "source": [
    "def mean_of_mvrvs(mvrvs):\n",
    "    mvrvs = list(set(sorted(mvrvs)))\n",
    "    mean_mvrvs = []\n",
    "    for i in range(len(mvrvs) - 1):\n",
    "        mean_mvrvs.append((mvrvs[i] + mvrvs[i + 1]) / 2)\n",
    "    return mean_mvrvs"
   ]
  },
  {
   "cell_type": "code",
   "execution_count": 15,
   "id": "18848195-5aa1-44b9-9686-b6b7135188a6",
   "metadata": {},
   "outputs": [],
   "source": [
    "def backtesting(mvrvs, thresholds, prices):\n",
    "    yields = {}\n",
    "    assert len(mvrvs) == len(prices)\n",
    "    for threshold in thresholds:\n",
    "        crypto = 0.0\n",
    "        dollar = prices[0]\n",
    "        # Todo: if `W` is very big, then we should use O(logN) algorithm.\n",
    "        for i in range(len(mvrvs) - 1):\n",
    "            assert mvrvs[i] != threshold\n",
    "            if mvrvs[i] < threshold and dollar != 0:\n",
    "                # long position(buy), under valued\n",
    "                crypto = dollar / prices[i + 1]\n",
    "                dollar = 0.0\n",
    "            elif mvrvs[i] > threshold and crypto != 0:\n",
    "                # short position(sell), highly valued\n",
    "                dollar = crypto * prices[i + 1]\n",
    "                crypto = 0.0\n",
    "        if dollar == 0 and crypto != 0:\n",
    "            dollar = crypto * prices[i + 1]\n",
    "        yields[threshold] = dollar / prices[0]\n",
    "    yields = sorted(yields.items(), key=lambda item: item[1], reverse=True)\n",
    "    return yields[0]"
   ]
  },
  {
   "cell_type": "code",
   "execution_count": 16,
   "id": "d0bf7c5f-09cd-411c-b8ca-d1e8811908c5",
   "metadata": {},
   "outputs": [],
   "source": [
    "def get_dsrv_6(df, key, W=30):\n",
    "    df = list(df.itertuples(index=True))\n",
    "    results = []\n",
    "    for idx in range(W, len(df) + 1):\n",
    "        subdf = df[idx - W:idx]\n",
    "        if key == 'mvrv':\n",
    "            mvrvs = [d.mvrv for d in subdf]\n",
    "        elif key == 'mvrv_z':\n",
    "            mvrvs = [d.mvrv_z for d in subdf]\n",
    "        prices = [d.price for d in subdf]\n",
    "        thresholds = mean_of_mvrvs(mvrvs)\n",
    "        best_threshold = backtesting(mvrvs, thresholds, prices)\n",
    "        \n",
    "        time = subdf[-1].Index\n",
    "        results.append(\n",
    "            (time, best_threshold[0], np.log(best_threshold[0]), best_threshold[1], prices[-1], np.log(prices[-1]))\n",
    "        )\n",
    "    df = pd.DataFrame(results, columns=['t', 'best_threshold', 'log_best_threshold', 'yield', 'price', 'log_price'])\n",
    "    df.index = df.t\n",
    "    df = df.drop('t', axis=1)\n",
    "    return df"
   ]
  },
  {
   "cell_type": "code",
   "execution_count": 17,
   "id": "2e9ad28a-9f49-4fae-b861-55287398db41",
   "metadata": {
    "tags": []
   },
   "outputs": [],
   "source": [
    "best_threshold_mvrv = get_dsrv_6(df, key='mvrv', W=30)"
   ]
  },
  {
   "cell_type": "code",
   "execution_count": 18,
   "id": "ade9f6b9-1abc-42c5-a4ce-06853691abf0",
   "metadata": {},
   "outputs": [
    {
     "data": {
      "text/html": [
       "<div>\n",
       "<style scoped>\n",
       "    .dataframe tbody tr th:only-of-type {\n",
       "        vertical-align: middle;\n",
       "    }\n",
       "\n",
       "    .dataframe tbody tr th {\n",
       "        vertical-align: top;\n",
       "    }\n",
       "\n",
       "    .dataframe thead th {\n",
       "        text-align: right;\n",
       "    }\n",
       "</style>\n",
       "<table border=\"1\" class=\"dataframe\">\n",
       "  <thead>\n",
       "    <tr style=\"text-align: right;\">\n",
       "      <th></th>\n",
       "      <th>best_threshold</th>\n",
       "      <th>log_best_threshold</th>\n",
       "      <th>yield</th>\n",
       "      <th>price</th>\n",
       "      <th>log_price</th>\n",
       "    </tr>\n",
       "    <tr>\n",
       "      <th>t</th>\n",
       "      <th></th>\n",
       "      <th></th>\n",
       "      <th></th>\n",
       "      <th></th>\n",
       "      <th></th>\n",
       "    </tr>\n",
       "  </thead>\n",
       "  <tbody>\n",
       "    <tr>\n",
       "      <th>2011-01-30</th>\n",
       "      <td>2.970892</td>\n",
       "      <td>1.088862</td>\n",
       "      <td>2.147257</td>\n",
       "      <td>0.479850</td>\n",
       "      <td>-0.734282</td>\n",
       "    </tr>\n",
       "    <tr>\n",
       "      <th>2011-01-31</th>\n",
       "      <td>2.970892</td>\n",
       "      <td>1.088862</td>\n",
       "      <td>2.503087</td>\n",
       "      <td>0.550100</td>\n",
       "      <td>-0.597655</td>\n",
       "    </tr>\n",
       "    <tr>\n",
       "      <th>2011-02-01</th>\n",
       "      <td>2.972299</td>\n",
       "      <td>1.089336</td>\n",
       "      <td>3.177791</td>\n",
       "      <td>0.707730</td>\n",
       "      <td>-0.345693</td>\n",
       "    </tr>\n",
       "    <tr>\n",
       "      <th>2011-02-02</th>\n",
       "      <td>2.962187</td>\n",
       "      <td>1.085928</td>\n",
       "      <td>3.178110</td>\n",
       "      <td>0.716000</td>\n",
       "      <td>-0.334075</td>\n",
       "    </tr>\n",
       "    <tr>\n",
       "      <th>2011-02-03</th>\n",
       "      <td>2.962187</td>\n",
       "      <td>1.085928</td>\n",
       "      <td>3.187922</td>\n",
       "      <td>0.696390</td>\n",
       "      <td>-0.361845</td>\n",
       "    </tr>\n",
       "    <tr>\n",
       "      <th>...</th>\n",
       "      <td>...</td>\n",
       "      <td>...</td>\n",
       "      <td>...</td>\n",
       "      <td>...</td>\n",
       "      <td>...</td>\n",
       "    </tr>\n",
       "    <tr>\n",
       "      <th>2021-10-07</th>\n",
       "      <td>2.261230</td>\n",
       "      <td>0.815909</td>\n",
       "      <td>1.307781</td>\n",
       "      <td>53776.542871</td>\n",
       "      <td>10.892593</td>\n",
       "    </tr>\n",
       "    <tr>\n",
       "      <th>2021-10-08</th>\n",
       "      <td>2.261230</td>\n",
       "      <td>0.815909</td>\n",
       "      <td>1.351163</td>\n",
       "      <td>53884.290533</td>\n",
       "      <td>10.894594</td>\n",
       "    </tr>\n",
       "    <tr>\n",
       "      <th>2021-10-09</th>\n",
       "      <td>2.261230</td>\n",
       "      <td>0.815909</td>\n",
       "      <td>1.343402</td>\n",
       "      <td>55068.643546</td>\n",
       "      <td>10.916336</td>\n",
       "    </tr>\n",
       "    <tr>\n",
       "      <th>2021-10-10</th>\n",
       "      <td>2.261230</td>\n",
       "      <td>0.815909</td>\n",
       "      <td>1.316151</td>\n",
       "      <td>54675.093215</td>\n",
       "      <td>10.909164</td>\n",
       "    </tr>\n",
       "    <tr>\n",
       "      <th>2021-10-11</th>\n",
       "      <td>2.261230</td>\n",
       "      <td>0.815909</td>\n",
       "      <td>1.347663</td>\n",
       "      <td>57434.240990</td>\n",
       "      <td>10.958396</td>\n",
       "    </tr>\n",
       "  </tbody>\n",
       "</table>\n",
       "<p>3908 rows × 5 columns</p>\n",
       "</div>"
      ],
      "text/plain": [
       "            best_threshold  log_best_threshold     yield         price  \\\n",
       "t                                                                        \n",
       "2011-01-30        2.970892            1.088862  2.147257      0.479850   \n",
       "2011-01-31        2.970892            1.088862  2.503087      0.550100   \n",
       "2011-02-01        2.972299            1.089336  3.177791      0.707730   \n",
       "2011-02-02        2.962187            1.085928  3.178110      0.716000   \n",
       "2011-02-03        2.962187            1.085928  3.187922      0.696390   \n",
       "...                    ...                 ...       ...           ...   \n",
       "2021-10-07        2.261230            0.815909  1.307781  53776.542871   \n",
       "2021-10-08        2.261230            0.815909  1.351163  53884.290533   \n",
       "2021-10-09        2.261230            0.815909  1.343402  55068.643546   \n",
       "2021-10-10        2.261230            0.815909  1.316151  54675.093215   \n",
       "2021-10-11        2.261230            0.815909  1.347663  57434.240990   \n",
       "\n",
       "            log_price  \n",
       "t                      \n",
       "2011-01-30  -0.734282  \n",
       "2011-01-31  -0.597655  \n",
       "2011-02-01  -0.345693  \n",
       "2011-02-02  -0.334075  \n",
       "2011-02-03  -0.361845  \n",
       "...               ...  \n",
       "2021-10-07  10.892593  \n",
       "2021-10-08  10.894594  \n",
       "2021-10-09  10.916336  \n",
       "2021-10-10  10.909164  \n",
       "2021-10-11  10.958396  \n",
       "\n",
       "[3908 rows x 5 columns]"
      ]
     },
     "execution_count": 18,
     "metadata": {},
     "output_type": "execute_result"
    }
   ],
   "source": [
    "best_threshold_mvrv"
   ]
  },
  {
   "cell_type": "code",
   "execution_count": null,
   "id": "df130a49-ab6e-4c79-b825-f6926c4fa8aa",
   "metadata": {},
   "outputs": [],
   "source": []
  },
  {
   "cell_type": "code",
   "execution_count": 19,
   "id": "dcbf7b8b-a85a-4156-9aaf-896e3aee36bd",
   "metadata": {},
   "outputs": [
    {
     "data": {
      "text/plain": [
       "<AxesSubplot:xlabel='t'>"
      ]
     },
     "execution_count": 19,
     "metadata": {},
     "output_type": "execute_result"
    },
    {
     "data": {
      "image/png": "[encoded data removed]",
      "text/plain": [
       "<Figure size 432x288 with 1 Axes>"
      ]
     },
     "metadata": {
      "needs_background": "light"
     },
     "output_type": "display_data"
    }
   ],
   "source": [
    "best_threshold_mvrv.drop(['price', 'log_price'], axis=1).plot()"
   ]
  },
  {
   "cell_type": "code",
   "execution_count": 20,
   "id": "c9e50cba-738b-4380-abec-b61ee7a96620",
   "metadata": {},
   "outputs": [
    {
     "data": {
      "text/plain": [
       "<AxesSubplot:xlabel='t'>"
      ]
     },
     "execution_count": 20,
     "metadata": {},
     "output_type": "execute_result"
    },
    {
     "data": {
      "image/png": "[encoded data removed]",
      "text/plain": [
       "<Figure size 432x288 with 1 Axes>"
      ]
     },
     "metadata": {
      "needs_background": "light"
     },
     "output_type": "display_data"
    }
   ],
   "source": [
    "best_threshold_mvrv.price.plot()"
   ]
  },
  {
   "cell_type": "code",
   "execution_count": null,
   "id": "f2966838-c8fa-44dd-acb9-64bada5ddcfe",
   "metadata": {},
   "outputs": [],
   "source": []
  },
  {
   "cell_type": "code",
   "execution_count": 21,
   "id": "4bfe6b36-d467-47d1-b5b2-546aa70841ae",
   "metadata": {},
   "outputs": [
    {
     "name": "stderr",
     "output_type": "stream",
     "text": [
      "/var/folders/tj/zzml3jqj5wnbjsgm40t4z_880000gn/T/ipykernel_41809/4054845264.py:16: RuntimeWarning: invalid value encountered in log\n",
      "  (time, best_threshold[0], np.log(best_threshold[0]), best_threshold[1], prices[-1], np.log(prices[-1]))\n"
     ]
    }
   ],
   "source": [
    "best_threshold_mvrv_z = get_dsrv_6(df, key='mvrv_z', W=30)"
   ]
  },
  {
   "cell_type": "code",
   "execution_count": 22,
   "id": "a1a1fcb3-2975-4168-90c1-e04635b4eee7",
   "metadata": {},
   "outputs": [
    {
     "data": {
      "text/plain": [
       "<AxesSubplot:xlabel='t'>"
      ]
     },
     "execution_count": 22,
     "metadata": {},
     "output_type": "execute_result"
    },
    {
     "data": {
      "image/png": "[encoded data removed]",
      "text/plain": [
       "<Figure size 432x288 with 1 Axes>"
      ]
     },
     "metadata": {
      "needs_background": "light"
     },
     "output_type": "display_data"
    }
   ],
   "source": [
    "best_threshold_mvrv_z.drop(['price', 'log_price'], axis=1).plot()"
   ]
  },
  {
   "cell_type": "code",
   "execution_count": 23,
   "id": "31b405b7-39e1-4dab-9685-57c00eb8eaf1",
   "metadata": {},
   "outputs": [
    {
     "data": {
      "text/plain": [
       "<AxesSubplot:xlabel='t'>"
      ]
     },
     "execution_count": 23,
     "metadata": {},
     "output_type": "execute_result"
    },
    {
     "data": {
      "image/png": "[encoded data removed]",
      "text/plain": [
       "<Figure size 432x288 with 1 Axes>"
      ]
     },
     "metadata": {
      "needs_background": "light"
     },
     "output_type": "display_data"
    }
   ],
   "source": [
    "best_threshold_mvrv_z.price.plot()"
   ]
  },
  {
   "cell_type": "code",
   "execution_count": null,
   "id": "b030a34c-fe1e-4f97-8d6c-816cfa5908bc",
   "metadata": {},
   "outputs": [],
   "source": []
  },
  {
   "cell_type": "markdown",
   "id": "7a105740-10ab-406e-ac5d-3245cddf95cd",
   "metadata": {},
   "source": [
    "### Stationary check\n",
    "\n",
    "Find best `W` using Granger causality test check"
   ]
  },
  {
   "cell_type": "code",
   "execution_count": 26,
   "id": "78011de4-bcd7-42c1-9824-e4753d562c19",
   "metadata": {},
   "outputs": [],
   "source": [
    "# ADF Test on each column of 1st Differences Dataframe\n",
    "from statsmodels.tsa.stattools import adfuller\n",
    "\n",
    "def adfuller_test(series, signif=0.05, name='', verbose=False):\n",
    "    \"\"\"Perform ADFuller to test for Stationarity of given series and print report\"\"\"\n",
    "    r = adfuller(series, autolag='AIC')\n",
    "    output = {'test_statistic':round(r[0], 4), 'pvalue':round(r[1], 4), 'n_lags':round(r[2], 4), 'n_obs':r[3]}\n",
    "    p_value = output['pvalue'] \n",
    "    def adjust(val, length= 6): return str(val).ljust(length)\n",
    "\n",
    "    # Print Summary\n",
    "    # print(f'    Augmented Dickey-Fuller Test on \"{name}\"', \"\\n   \", '-'*47)\n",
    "    # print(f' Significance Level    = {signif}')\n",
    "    # print(f' Test Statistic        = {output[\"test_statistic\"]}')\n",
    "    # print(f' No. Lags Chosen       = {output[\"n_lags\"]}')\n",
    "\n",
    "    # for key,val in r[4].items():\n",
    "    #    print(f' Critical value {adjust(key)} = {round(val, 3)}')\n",
    "    \n",
    "    return {\n",
    "        \"res\" : True if p_value <= signif else False,\n",
    "        \"p-value\" : p_value\n",
    "    }"
   ]
  },
  {
   "cell_type": "code",
   "execution_count": 29,
   "id": "8a39cec2-fd29-452e-b637-a55c99d1039a",
   "metadata": {},
   "outputs": [],
   "source": [
    "from cointanalysis import CointAnalysis\n",
    "\n",
    "def coint_test(A, B, signif=0.05):\n",
    "    X = np.array([A, B]).T\n",
    "\n",
    "    coint = CointAnalysis()\n",
    "    coint.test(X)\n",
    "\n",
    "    return {\n",
    "        \"res\" : True if coint.pvalue_ <= signif else False,\n",
    "        \"p-value\" : coint.pvalue_\n",
    "    }"
   ]
  },
  {
   "cell_type": "code",
   "execution_count": 30,
   "id": "04e1b68b-bff2-4861-b107-0ab6a443db34",
   "metadata": {},
   "outputs": [],
   "source": [
    "def z_score(df):\n",
    "    cols = list(df.columns)\n",
    "    for col in cols:\n",
    "        col_zscore = col + '_zscore'\n",
    "        df[col_zscore] = (df[col] - df[col].mean())/df[col].std(ddof=0)\n",
    "    return df"
   ]
  },
  {
   "cell_type": "code",
   "execution_count": null,
   "id": "b523e07d-bee0-40f8-8338-2e5600eca446",
   "metadata": {},
   "outputs": [],
   "source": []
  },
  {
   "cell_type": "code",
   "execution_count": 31,
   "id": "a0a9a3c3-40da-467b-93f0-4afb99a09b8b",
   "metadata": {},
   "outputs": [],
   "source": [
    "subdf = df[('2017-06-01 00:00:00' <= df.index) & (df.index <= '2021-10-12 00:00:00')]"
   ]
  },
  {
   "cell_type": "code",
   "execution_count": 57,
   "id": "4ffaf5f9-3dd8-4433-93ee-6b47f705a80f",
   "metadata": {},
   "outputs": [
    {
     "data": {
      "text/html": [
       "<div>\n",
       "<style scoped>\n",
       "    .dataframe tbody tr th:only-of-type {\n",
       "        vertical-align: middle;\n",
       "    }\n",
       "\n",
       "    .dataframe tbody tr th {\n",
       "        vertical-align: top;\n",
       "    }\n",
       "\n",
       "    .dataframe thead th {\n",
       "        text-align: right;\n",
       "    }\n",
       "</style>\n",
       "<table border=\"1\" class=\"dataframe\">\n",
       "  <thead>\n",
       "    <tr style=\"text-align: right;\">\n",
       "      <th></th>\n",
       "      <th>mvrv</th>\n",
       "      <th>mvrv_z</th>\n",
       "      <th>price</th>\n",
       "    </tr>\n",
       "    <tr>\n",
       "      <th>t</th>\n",
       "      <th></th>\n",
       "      <th></th>\n",
       "      <th></th>\n",
       "    </tr>\n",
       "  </thead>\n",
       "  <tbody>\n",
       "    <tr>\n",
       "      <th>2017-06-01</th>\n",
       "      <td>3.227408</td>\n",
       "      <td>5.063162</td>\n",
       "      <td>2417.941274</td>\n",
       "    </tr>\n",
       "    <tr>\n",
       "      <th>2017-06-02</th>\n",
       "      <td>3.244292</td>\n",
       "      <td>5.219581</td>\n",
       "      <td>2479.561657</td>\n",
       "    </tr>\n",
       "    <tr>\n",
       "      <th>2017-06-03</th>\n",
       "      <td>3.341226</td>\n",
       "      <td>5.352066</td>\n",
       "      <td>2543.872327</td>\n",
       "    </tr>\n",
       "    <tr>\n",
       "      <th>2017-06-04</th>\n",
       "      <td>3.317976</td>\n",
       "      <td>5.215265</td>\n",
       "      <td>2521.845868</td>\n",
       "    </tr>\n",
       "    <tr>\n",
       "      <th>2017-06-05</th>\n",
       "      <td>3.387519</td>\n",
       "      <td>5.641984</td>\n",
       "      <td>2695.033419</td>\n",
       "    </tr>\n",
       "    <tr>\n",
       "      <th>...</th>\n",
       "      <td>...</td>\n",
       "      <td>...</td>\n",
       "      <td>...</td>\n",
       "    </tr>\n",
       "    <tr>\n",
       "      <th>2021-10-07</th>\n",
       "      <td>2.519077</td>\n",
       "      <td>2.986311</td>\n",
       "      <td>53776.542871</td>\n",
       "    </tr>\n",
       "    <tr>\n",
       "      <th>2021-10-08</th>\n",
       "      <td>2.518883</td>\n",
       "      <td>2.990908</td>\n",
       "      <td>53884.290533</td>\n",
       "    </tr>\n",
       "    <tr>\n",
       "      <th>2021-10-09</th>\n",
       "      <td>2.528370</td>\n",
       "      <td>3.093188</td>\n",
       "      <td>55068.643546</td>\n",
       "    </tr>\n",
       "    <tr>\n",
       "      <th>2021-10-10</th>\n",
       "      <td>2.543532</td>\n",
       "      <td>3.046079</td>\n",
       "      <td>54675.093215</td>\n",
       "    </tr>\n",
       "    <tr>\n",
       "      <th>2021-10-11</th>\n",
       "      <td>2.608126</td>\n",
       "      <td>3.288415</td>\n",
       "      <td>57434.240990</td>\n",
       "    </tr>\n",
       "  </tbody>\n",
       "</table>\n",
       "<p>1594 rows × 3 columns</p>\n",
       "</div>"
      ],
      "text/plain": [
       "                mvrv    mvrv_z         price\n",
       "t                                           \n",
       "2017-06-01  3.227408  5.063162   2417.941274\n",
       "2017-06-02  3.244292  5.219581   2479.561657\n",
       "2017-06-03  3.341226  5.352066   2543.872327\n",
       "2017-06-04  3.317976  5.215265   2521.845868\n",
       "2017-06-05  3.387519  5.641984   2695.033419\n",
       "...              ...       ...           ...\n",
       "2021-10-07  2.519077  2.986311  53776.542871\n",
       "2021-10-08  2.518883  2.990908  53884.290533\n",
       "2021-10-09  2.528370  3.093188  55068.643546\n",
       "2021-10-10  2.543532  3.046079  54675.093215\n",
       "2021-10-11  2.608126  3.288415  57434.240990\n",
       "\n",
       "[1594 rows x 3 columns]"
      ]
     },
     "execution_count": 57,
     "metadata": {},
     "output_type": "execute_result"
    }
   ],
   "source": [
    "subdf"
   ]
  },
  {
   "cell_type": "code",
   "execution_count": 33,
   "id": "e6e3cdf1-6fd6-4b81-81f0-f76848e12bdd",
   "metadata": {
    "tags": []
   },
   "outputs": [
    {
     "name": "stdout",
     "output_type": "stream",
     "text": [
      "2017-06-01 00:00:00 2021-10-11 00:00:00\n"
     ]
    },
    {
     "name": "stderr",
     "output_type": "stream",
     "text": [
      "  4%|█▊                                          | 2/48 [00:00<00:10,  4.48it/s]"
     ]
    },
    {
     "name": "stdout",
     "output_type": "stream",
     "text": [
      "mvrv 2 {'res': False, 'p-value': 0.1651} {'res': False, 'p-value': 0.8518} {'res': True, 'p-value': 0.02806482429122902} {'res': True, 'p-value': 0.0} {'res': True, 'p-value': 0.0}\n",
      "mvrv 3 {'res': False, 'p-value': 0.2187} {'res': False, 'p-value': 0.8671} {'res': True, 'p-value': 0.0429046332869049} {'res': True, 'p-value': 0.0} {'res': True, 'p-value': 0.0}\n"
     ]
    },
    {
     "name": "stderr",
     "output_type": "stream",
     "text": [
      " 85%|████████████████████████████████████▋      | 41/48 [00:11<00:02,  2.36it/s]"
     ]
    },
    {
     "name": "stdout",
     "output_type": "stream",
     "text": [
      "mvrv 42 {'res': False, 'p-value': 0.1991} {'res': False, 'p-value': 0.7836} {'res': True, 'p-value': 0.03284329085276912} {'res': True, 'p-value': 0.0} {'res': True, 'p-value': 0.0}\n"
     ]
    },
    {
     "name": "stderr",
     "output_type": "stream",
     "text": [
      "\r",
      " 88%|█████████████████████████████████████▋     | 42/48 [00:12<00:02,  2.27it/s]"
     ]
    },
    {
     "name": "stdout",
     "output_type": "stream",
     "text": [
      "mvrv 43 {'res': False, 'p-value': 0.2144} {'res': False, 'p-value': 0.7324} {'res': True, 'p-value': 0.03001204199502739} {'res': True, 'p-value': 0.0} {'res': True, 'p-value': 0.0}\n"
     ]
    },
    {
     "name": "stderr",
     "output_type": "stream",
     "text": [
      "100%|███████████████████████████████████████████| 48/48 [00:15<00:00,  3.10it/s]\n"
     ]
    }
   ],
   "source": [
    "start = subdf.index[0]\n",
    "end = subdf.index[-1]\n",
    "\n",
    "print(start, end)\n",
    "for W in tqdm(range(2, 50)):\n",
    "    best_threshold_mvrv = get_dsrv_6(subdf, key='mvrv', W=W)\n",
    "    best_threshold_mvrv_z = z_score(df=best_threshold_mvrv)\n",
    "    \n",
    "    r1 = adfuller_test(best_threshold_mvrv_z.best_threshold_zscore)\n",
    "    r2 = adfuller_test(best_threshold_mvrv_z.log_price_zscore)\n",
    "    r3 = coint_test(best_threshold_mvrv_z.best_threshold_zscore, best_threshold_mvrv_z.log_price_zscore, signif=0.05)\n",
    "\n",
    "    if r3['res']:\n",
    "        best_threshold_mvrv_z_diff = (best_threshold_mvrv_z - best_threshold_mvrv_z.shift(1)).dropna()\n",
    "        rr1 = adfuller_test(best_threshold_mvrv_z_diff.best_threshold_zscore, signif=0.05)\n",
    "        rr2 = adfuller_test(best_threshold_mvrv_z_diff.log_price_zscore, signif=0.05)\n",
    "        if rr1['res'] and rr2['res']:\n",
    "            print('mvrv', W, r1, r2, r3, rr1, rr2)"
   ]
  },
  {
   "cell_type": "code",
   "execution_count": null,
   "id": "a0c893cb-f3a9-4747-bfcc-78744d8a4c6a",
   "metadata": {},
   "outputs": [],
   "source": []
  },
  {
   "cell_type": "code",
   "execution_count": 34,
   "id": "89b10092-08e3-43ce-8eed-b42e110a8170",
   "metadata": {},
   "outputs": [
    {
     "data": {
      "text/plain": [
       "<AxesSubplot:xlabel='t'>"
      ]
     },
     "execution_count": 34,
     "metadata": {},
     "output_type": "execute_result"
    },
    {
     "data": {
      "image/png": "[encoded data removed]",
      "text/plain": [
       "<Figure size 1080x504 with 1 Axes>"
      ]
     },
     "metadata": {
      "needs_background": "light"
     },
     "output_type": "display_data"
    }
   ],
   "source": [
    "W = 42\n",
    "\n",
    "best_threshold_mvrv = get_dsrv_6(subdf, key='mvrv', W=W)\n",
    "best_threshold_mvrv_z = z_score(df=best_threshold_mvrv)\n",
    "best_threshold_mvrv_z[['best_threshold_zscore']].plot(figsize=(15, 7))"
   ]
  },
  {
   "cell_type": "code",
   "execution_count": 36,
   "id": "52cdfdc8-e2f5-4f8f-8f74-6b8c24f4e346",
   "metadata": {},
   "outputs": [
    {
     "data": {
      "text/plain": [
       "<AxesSubplot:xlabel='t'>"
      ]
     },
     "execution_count": 36,
     "metadata": {},
     "output_type": "execute_result"
    },
    {
     "data": {
      "image/png": "[encoded data removed]",
      "text/plain": [
       "<Figure size 1080x504 with 1 Axes>"
      ]
     },
     "metadata": {
      "needs_background": "light"
     },
     "output_type": "display_data"
    }
   ],
   "source": [
    "best_threshold_mvrv[['log_price_zscore']].plot(figsize=(15, 7))"
   ]
  },
  {
   "cell_type": "code",
   "execution_count": null,
   "id": "51b3cd2d-e43c-45bd-9473-1fa32eca447b",
   "metadata": {},
   "outputs": [],
   "source": []
  },
  {
   "cell_type": "code",
   "execution_count": 48,
   "id": "db618a18-4f1d-4c3b-b698-615b4b2cdc4e",
   "metadata": {},
   "outputs": [],
   "source": [
    "W = 42\n",
    "\n",
    "classes = {'up' : 0,  'same' : 0, 'down' : 0}\n",
    "\n",
    "Xs = []\n",
    "ys = []\n",
    "\n",
    "for idx in range(W, len(best_threshold_mvrv_z) + 1):\n",
    "    sub_best_threshold_mvrv_z = best_threshold_mvrv_z[idx - W:idx]\n",
    "    best_threshold_zscore = sub_best_threshold_mvrv_z.best_threshold_zscore.values\n",
    "    X = best_threshold_zscore[:-1]\n",
    "    y = best_threshold_zscore[-1]\n",
    "    \n",
    "    Xs.append(best_threshold_zscore[:-1])\n",
    "    ys.append([y])\n",
    "    if X[-1] < y: # up\n",
    "        classes['up'] += 1\n",
    "    elif X[-1] > y: # down\n",
    "        classes['down'] += 1\n",
    "    else: # same\n",
    "        classes['same'] += 1\n",
    "        \n",
    "X_train = np.asarray(Xs)\n",
    "Y_train = np.asarray(ys)"
   ]
  },
  {
   "cell_type": "code",
   "execution_count": 37,
   "id": "bafe1a0a-92a8-4ebf-a184-2dbe9f323eff",
   "metadata": {},
   "outputs": [
    {
     "data": {
      "text/plain": [
       "{'up': 220, 'same': 1074, 'down': 218}"
      ]
     },
     "execution_count": 37,
     "metadata": {},
     "output_type": "execute_result"
    }
   ],
   "source": [
    "classes"
   ]
  },
  {
   "cell_type": "code",
   "execution_count": 59,
   "id": "7ee89f19-25d1-4d68-a981-37c5f2442d02",
   "metadata": {},
   "outputs": [],
   "source": [
    "filename = f\"BTC_{W}.csv\"\n",
    "subdf.to_csv(filename)"
   ]
  },
  {
   "cell_type": "code",
   "execution_count": null,
   "id": "71f97818",
   "metadata": {},
   "outputs": [],
   "source": []
  }
 ],
 "metadata": {
  "kernelspec": {
   "display_name": "tf",
   "language": "python",
   "name": "tf"
  },
  "language_info": {
   "codemirror_mode": {
    "name": "ipython",
    "version": 3
   },
   "file_extension": ".py",
   "mimetype": "text/x-python",
   "name": "python",
   "nbconvert_exporter": "python",
   "pygments_lexer": "ipython3",
   "version": "3.8.10"
  }
 },
 "nbformat": 4,
 "nbformat_minor": 5
}
